{
 "cells": [
  {
   "cell_type": "markdown",
   "metadata": {},
   "source": [
    "<h1> Final Capstone Project"
   ]
  },
  {
   "cell_type": "markdown",
   "metadata": {},
   "source": [
    "<h3> Business Plan"
   ]
  },
  {
   "cell_type": "markdown",
   "metadata": {},
   "source": [
    "<p style=\"text-align:justify\">A person wants to open a new Pizzeria in Milan (Italy). It is necessary to look at the present distribution of Pizza Restaurants in the city in order to find the best location to open it. A detailed study is required based on neighborhoods information. The restaurant should be opened next to colleges and it is targeted to young students. The opening days go from tuesday to saturday, from 11.30 am to 3 pm and from 7 pm to 12 pm. A study also on the menu should be provided. The investor wants to know the best pizzas to be offered in the menu based on what is commonly present in the menu of neighboring restaurants.</p>"
   ]
  },
  {
   "cell_type": "markdown",
   "metadata": {},
   "source": [
    "<h3> Data Description"
   ]
  },
  {
   "cell_type": "markdown",
   "metadata": {},
   "source": [
    "The data that have to be collected for this study are:\n",
    "<ul>\n",
    "  <li>The list of locations in Milan, Italy obtained by scraping the wikipedia page https://en.wikipedia.org/wiki/Zones_of_Milan . This contains the info about the districts of Milan and the population density</li>\n",
    "  <li>The coordinates of the districts obtained by the Open Streets Map API</li>\n",
    "</ul>\n",
    "From the Foursquare API the following data will be searched:\n",
    "<ul>\n",
    "    <li>The list of Pizza restaurants venues in every district</li>\n",
    "    <li>The list of Pizza's types in the menu of the restaurants</li>\n",
    "    <li>The university venues in the districts</li>\n",
    "</ul>\n",
    "This data will be then analyzed and clusterized "
   ]
  }
 ],
 "metadata": {
  "kernelspec": {
   "display_name": "Python 3",
   "language": "python",
   "name": "python3"
  },
  "language_info": {
   "codemirror_mode": {
    "name": "ipython",
    "version": 3
   },
   "file_extension": ".py",
   "mimetype": "text/x-python",
   "name": "python",
   "nbconvert_exporter": "python",
   "pygments_lexer": "ipython3",
   "version": "3.7.2"
  }
 },
 "nbformat": 4,
 "nbformat_minor": 2
}
